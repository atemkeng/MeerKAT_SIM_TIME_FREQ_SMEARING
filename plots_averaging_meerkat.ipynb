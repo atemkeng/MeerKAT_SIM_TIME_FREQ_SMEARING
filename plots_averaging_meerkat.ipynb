{
 "cells": [
  {
   "cell_type": "code",
   "execution_count": 26,
   "metadata": {
    "collapsed": true
   },
   "outputs": [],
   "source": [
    "import numpy as np\n",
    "import pylab\n",
    "%matplotlib inline\n",
    "\n",
    "pylab.rc('xtick', labelsize=14.5) \n",
    "pylab.rc('ytick', labelsize=14.5) \n",
    "params = {'legend.fontsize': 24, \n",
    "          'legend.linewidth': 2} \n",
    "\n",
    "pylab.rcParams.update(params) \n",
    "text_size_label = 20"
   ]
  },
  {
   "cell_type": "code",
   "execution_count": 27,
   "metadata": {
    "collapsed": false
   },
   "outputs": [
    {
     "name": "stdout",
     "output_type": "stream",
     "text": [
      "['fov', 'noise', 'int', 'Bandwidth', 'flux', 'window', 'radius']\n"
     ]
    }
   ],
   "source": [
    "# R*P for frequency=900MHz, delta_t=32s, delta_f=23.5kHz, Dec=30deg, synthesis time=1h, total bandwidth=117.5kHz\n",
    "data = np.load(\"avg_900MHz-int32s-channel32.5kHz-synthesis1h.data\")\n",
    "print data.keys()"
   ]
  },
  {
   "cell_type": "code",
   "execution_count": 30,
   "metadata": {
    "collapsed": false
   },
   "outputs": [
    {
     "name": "stdout",
     "output_type": "stream",
     "text": [
      "[ 1.00000072  0.00503652  0.00898025  0.00938206  0.01209825  0.01562659\n",
      "  0.02115734  0.00736598  0.01261451  0.01227849  0.01049093  0.0139136\n",
      "  0.01615593  0.0071046   0.01016507  0.0092889   0.01176211  0.01203034\n",
      "  0.01438346  0.00705555  0.00514327  0.00812592  0.00849935  0.01154757\n",
      "  0.01262237  0.          0.          0.          0.          0.00378457\n",
      "  0.00473666  0.          0.          0.          0.          0.          0.        ]\n"
     ]
    },
    {
     "data": {
      "text/plain": [
       "<matplotlib.legend.Legend at 0x7feb45aaa250>"
      ]
     },
     "execution_count": 30,
     "metadata": {},
     "output_type": "execute_result"
    },
    {
     "data": {
      "image/png": "[encoded data removed]",
      "text/plain": [
       "<matplotlib.figure.Figure at 0x7feb45ae7c90>"
      ]
     },
     "metadata": {},
     "output_type": "display_data"
    }
   ],
   "source": [
    "print data['flux']\n",
    "pylab.figure(figsize=(10, 6))\n",
    "pylab.plot(data['radius'], data['flux'],'b-o',label=r\"$R*P$, $(\\Delta t,\\Delta \\nu)=(32s,23.5kHz)$\")\n",
    "           \n",
    "pylab.xlabel(\"Distance from the phase centre\",fontsize=text_size_label)\n",
    "pylab.ylabel(\"R*P\",fontsize=text_size_label)\n",
    "pylab.legend()"
   ]
  },
  {
   "cell_type": "code",
   "execution_count": null,
   "metadata": {
    "collapsed": true
   },
   "outputs": [],
   "source": []
  },
  {
   "cell_type": "code",
   "execution_count": null,
   "metadata": {
    "collapsed": true
   },
   "outputs": [],
   "source": []
  }
 ],
 "metadata": {
  "kernelspec": {
   "display_name": "Python 2",
   "language": "python",
   "name": "python2"
  },
  "language_info": {
   "codemirror_mode": {
    "name": "ipython",
    "version": 2
   },
   "file_extension": ".py",
   "mimetype": "text/x-python",
   "name": "python",
   "nbconvert_exporter": "python",
   "pygments_lexer": "ipython2",
   "version": "2.7.6"
  }
 },
 "nbformat": 4,
 "nbformat_minor": 0
}
